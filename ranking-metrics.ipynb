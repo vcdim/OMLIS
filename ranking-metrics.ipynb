{
 "cells": [
  {
   "cell_type": "markdown",
   "metadata": {},
   "source": [
    "# Ranking Metrics"
   ]
  },
  {
   "cell_type": "code",
   "execution_count": null,
   "metadata": {},
   "outputs": [
    {
     "name": "stdout",
     "output_type": "stream",
     "text": [
      "21.81278647636148\n",
      "22.960646422092836\n",
      "0.9500075074268433\n"
     ]
    }
   ],
   "source": [
    "from sklearn.metrics import dcg_score, ndcg_score\n",
    "\n",
    "y_score = [5, 3, 4, 0, 1, 2]\n",
    "y_true = [10, 8, 4, 7, 5, 2]\n",
    "\n",
    "score_dcg = dcg_score([y_true], [y_score])\n",
    "score_idcg = dcg_score([y_true], [y_true])\n",
    "score_ndcg = ndcg_score([y_true], [y_score])\n",
    "\n",
    "print(score_dcg)\n",
    "print(score_idcg)\n",
    "print(score_ndcg)"
   ]
  },
  {
   "cell_type": "markdown",
   "metadata": {},
   "source": [
    "Discount"
   ]
  },
  {
   "cell_type": "code",
   "execution_count": 30,
   "metadata": {},
   "outputs": [
    {
     "name": "stdout",
     "output_type": "stream",
     "text": [
      "1.000\n",
      "0.631\n",
      "0.500\n",
      "0.431\n",
      "0.387\n",
      "0.356\n"
     ]
    }
   ],
   "source": [
    "dd = [1/np.log2(i+2) for i in range(6)]\n",
    "for u in dd:\n",
    "    print(\"{:.3f}\".format(u))"
   ]
  },
  {
   "cell_type": "markdown",
   "metadata": {},
   "source": [
    "DCG"
   ]
  },
  {
   "cell_type": "code",
   "execution_count": null,
   "metadata": {},
   "outputs": [
    {
     "data": {
      "text/plain": [
       "[10, 4, 8, 2, 5, 7]"
      ]
     },
     "execution_count": 31,
     "metadata": {},
     "output_type": "execute_result"
    }
   ],
   "source": [
    "y_true_sorted = [x for y, x in sorted(zip(y_score, y_true), reverse=True)]\n",
    "print(y_true_sorted)\n",
    "\n",
    "score_dcg1 = 0\n",
    "for d, yt in zip(dd, y_true_sorted):\n",
    "    score_dcg1 += d * yt\n",
    "print(score_dcg1)"
   ]
  },
  {
   "cell_type": "markdown",
   "metadata": {},
   "source": [
    "IDCG"
   ]
  },
  {
   "cell_type": "code",
   "execution_count": 34,
   "metadata": {},
   "outputs": [
    {
     "name": "stdout",
     "output_type": "stream",
     "text": [
      "[10, 8, 7, 5, 4, 2]\n",
      "22.96064642209284\n"
     ]
    }
   ],
   "source": [
    "y_true_sorted2 = [x for y, x in sorted(zip(y_true, y_true), reverse=True)]\n",
    "print(y_true_sorted2)\n",
    "\n",
    "score_idcg1 = 0\n",
    "for d, yt in zip(dd, y_true_sorted2):\n",
    "    score_idcg1 += d * yt\n",
    "print(score_idcg1)"
   ]
  },
  {
   "cell_type": "markdown",
   "metadata": {},
   "source": [
    "nDCG"
   ]
  },
  {
   "cell_type": "code",
   "execution_count": 39,
   "metadata": {},
   "outputs": [
    {
     "data": {
      "text/plain": [
       "np.float64(0.950007507426843)"
      ]
     },
     "execution_count": 39,
     "metadata": {},
     "output_type": "execute_result"
    }
   ],
   "source": [
    "score_dcg1 / score_idcg1"
   ]
  }
 ],
 "metadata": {
  "kernelspec": {
   "display_name": "qun",
   "language": "python",
   "name": "python3"
  },
  "language_info": {
   "codemirror_mode": {
    "name": "ipython",
    "version": 3
   },
   "file_extension": ".py",
   "mimetype": "text/x-python",
   "name": "python",
   "nbconvert_exporter": "python",
   "pygments_lexer": "ipython3",
   "version": "3.10.15"
  }
 },
 "nbformat": 4,
 "nbformat_minor": 2
}
